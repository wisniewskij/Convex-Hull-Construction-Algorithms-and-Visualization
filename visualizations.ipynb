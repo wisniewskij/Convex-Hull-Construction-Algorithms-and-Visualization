{
 "cells": [
  {
   "cell_type": "markdown",
   "metadata": {},
   "source": [
    "# Algotytmy wizualizujące algorytmy tworzenia otoczki wypukłej"
   ]
  },
  {
   "cell_type": "code",
   "execution_count": 1,
   "metadata": {},
   "outputs": [],
   "source": [
    "import numpy as np\n",
    "import pandas as pd\n",
    "import matplotlib.pyplot as plt\n",
    "from bitalg.visualizer.main import Visualizer\n",
    "from functools import cmp_to_key"
   ]
  },
  {
   "cell_type": "markdown",
   "metadata": {},
   "source": [
    "## Wczytywanie, zapisywanie zbiorów punktów do plikow"
   ]
  },
  {
   "cell_type": "code",
   "execution_count": 2,
   "metadata": {},
   "outputs": [],
   "source": [
    "def save_points(f_path, points):\n",
    "    with open(f_path, \"w\") as f:\n",
    "        f.write(f'{points}')\n",
    "\n",
    "def load_points(f_path):\n",
    "    with open(f_path, \"r\") as f:\n",
    "        return eval(f.readlines()[0])"
   ]
  },
  {
   "cell_type": "markdown",
   "metadata": {},
   "source": [
    "## Funkcje wyznacznika, orientacji oraz odległości"
   ]
  },
  {
   "cell_type": "code",
   "execution_count": 3,
   "metadata": {},
   "outputs": [],
   "source": [
    "def det(a, b, c):\n",
    "    return ((b[0] - a[0]) * (c[1] - b[1]) - (b[1]-a[1]) * (c[0] - b[0]) )\n",
    "\n",
    "def points_orientation(a, b, c, eps = 0):\n",
    "    computed_det = det(a, b, c)\n",
    "    if computed_det > eps: return 1 #counter-clockwise turn\n",
    "    elif computed_det < -eps: return -1\n",
    "    return 0\n",
    "\n",
    "def points_distance_square(a, b):\n",
    "    return ((a[0]-b[0])**2 + (a[1]-b[1])**2)"
   ]
  },
  {
   "cell_type": "markdown",
   "metadata": {},
   "source": [
    "## Visualizer"
   ]
  },
  {
   "cell_type": "code",
   "execution_count": 4,
   "metadata": {},
   "outputs": [],
   "source": [
    "class Visualiser_embed:\n",
    "    def __init__(self):\n",
    "        self.v = Visualizer()\n",
    "        self.ch_points = []\n",
    "        self.ch_points_coords = []\n",
    "        self.ch_lines = []\n",
    "        self.colors = ['green', 'blue', 'cyan', 'magenta', 'yellow', 'black']\n",
    "        self.points = dict()\n",
    "        self.lines = dict()\n",
    "        self.point_groups = []\n",
    "        self.line_groups = []\n",
    "\n",
    "    def add_points(self, points, color_no = 1):\n",
    "        self.point_groups.append(self.v.add_point(points, color = self.colors[color_no%len(self.colors)]))\n",
    "\n",
    "    def add_lines(self, lines, color_no = 1):\n",
    "        self.line_groups.append(self.v.add_line_segment(lines, color = self.colors[color_no%len(self.colors)]))\n",
    "    \n",
    "    def add_ch_line(self, color_no = 0):\n",
    "        if len(self.ch_points) > 1:\n",
    "           self.ch_lines.append(self.v.add_line_segment((self.ch_points_coords[-1], self.ch_points_coords[-2]), color = self.colors[color_no%len(self.colors)]))\n",
    "\n",
    "    def checker_line(self, line):\n",
    "        x = self.v.add_line_segment(line, color = 'green')\n",
    "        self.v.remove_figure(x)\n",
    "\n",
    "    def remove_ch_line(self):\n",
    "        if len(self.ch_lines):\n",
    "            self.v.remove_figure(self.ch_lines.pop())\n",
    "\n",
    "    def add_ch_point(self, point, color_no = 0):\n",
    "        self.ch_points.append(self.v.add_point(point, color = self.colors[color_no%len(self.colors)]))\n",
    "        self.ch_points_coords.append(point)\n",
    "\n",
    "    def remove_ch_point(self):\n",
    "        if len(self.ch_points):\n",
    "            self.v.remove_figure(self.ch_points.pop())\n",
    "            self.ch_points_coords.pop()\n",
    "    \n",
    "    def add_ending_line_and_pause_gif(self, color_no = 0):\n",
    "         if len(self.ch_points) > 1:\n",
    "            for _ in range(5): self.ch_lines.append(self.v.add_line_segment((self.ch_points_coords[-1], self.ch_points_coords[0]), color = self.colors[color_no%len(self.colors)]))\n",
    "    \n",
    "    def add_point(self, point, color_no):\n",
    "        if point in self.points: self.points[point].append(self.v.add_point(point, color = self.colors[color_no%len(self.colors)]))\n",
    "        else: self.points[point] = [self.v.add_point(point, color = self.colors[color_no%len(self.colors)])]\n",
    "    \n",
    "    def add_line(self, line, color_no):\n",
    "        if line in self.lines: self.lines[line].append(self.v.add_line(line, color = self.colors[color_no%len(self.colors)]))\n",
    "        else: self.lines[line] = [self.v.add_line(line, color = self.colors[color_no%len(self.colors)])]\n",
    "    \n",
    "    def remove_point(self, point):\n",
    "        self.points.pop(point)\n",
    "\n",
    "    def remove_line(self, line):\n",
    "        self.lines.pop(line)\n",
    "\n",
    "    def clear(self):\n",
    "        for x in self.ch_points: self.v.remove_figure(x)\n",
    "        for x in self.ch_lines: self.v.remove_figure(x)\n",
    "        for x in self.line_groups: self.v.remove_figure(x)\n",
    "        for x in self.point_groups: self.v.remove_figure(x)\n",
    "        for x, y in self.points: \n",
    "            for z in y : self.v.remove_figure(z)\n",
    "        for x, y in self.lines: \n",
    "            for z in y : self.v.remove_figure(z)\n",
    "        self.ch_points = []\n",
    "        self.ch_points_coords = []\n",
    "        self.ch_lines = []\n",
    "        self.points = dict()\n",
    "        self.lines = dict()\n",
    "        self.point_groups = []"
   ]
  },
  {
   "cell_type": "markdown",
   "metadata": {},
   "source": [
    "## Algorytmy wizualizacji znajdowania otoczki wypukłej"
   ]
  },
  {
   "cell_type": "markdown",
   "metadata": {},
   "source": [
    "Wszyskie zaimplementowane poniżej algorytmy przyjmują listę punktów w postaci [(x1, y1)...] oraz zwracają listę kolejnych punktów otoczki postaci [(x1, y1)...] oraz obiekt Visualizer z pakietu bit-alg."
   ]
  },
  {
   "cell_type": "markdown",
   "metadata": {},
   "source": [
    "### Algorytm Grahama"
   ]
  },
  {
   "cell_type": "code",
   "execution_count": 15,
   "metadata": {},
   "outputs": [],
   "source": [
    "def graham_algorithm(points, vis = None, color_no = 1):\n",
    "    V = Visualiser_embed() if not vis else vis; V.add_points(points, color_no) #\n",
    "    lowest_y_point = points[0]\n",
    "\n",
    "    for i in range(len(points)): \n",
    "        if points[i][1] < lowest_y_point[1] or (points[i][1] == lowest_y_point[1] and points[i][0] < lowest_y_point[0]): lowest_y_point = points[i] \n",
    "\n",
    "    def side_comp(x, y):\n",
    "        orientation = points_orientation(lowest_y_point, x, y)\n",
    "        if orientation == 0: return points_distance_square(lowest_y_point, x) - points_distance_square(lowest_y_point, y)\n",
    "        return -orientation\n",
    "\n",
    "    points.sort(key=cmp_to_key(side_comp))\n",
    "\n",
    "    new_points = [lowest_y_point]\n",
    "\n",
    "    for i in range(1, len(points)):\n",
    "        if i == len(points)-1 or points_orientation(lowest_y_point, points[i], points[i+1]) != 0: new_points.append(points[i])\n",
    "\n",
    "    S = [new_points[0]]; V.add_ch_point(new_points[0]) #\n",
    "    \n",
    "    for i in range(1, len(new_points)):\n",
    "        while len(S) > 1 and points_orientation(S[-2], S[-1], new_points[i]) != 1: S.pop(); V.remove_ch_line(); V.remove_ch_point()\n",
    "\n",
    "        S.append(new_points[i]); V.add_ch_point(new_points[i], (color_no) % len(V.colors) ); V.add_ch_line((color_no) % len(V.colors)) #\n",
    "\n",
    "    V.add_ending_line_and_pause_gif(color_no = color_no) #\n",
    "    return (S, V)"
   ]
  },
  {
   "cell_type": "markdown",
   "metadata": {},
   "source": [
    "### Algorytm Jarvisa"
   ]
  },
  {
   "cell_type": "code",
   "execution_count": 6,
   "metadata": {},
   "outputs": [],
   "source": [
    "def jarvis_algorithm(points, vis = None):\n",
    "    V = Visualiser_embed() if not vis else vis; V.add_points(points) #\n",
    "\n",
    "    on_chain = points[0]\n",
    "    for i in range(len(points)): \n",
    "        if points[i][1] < on_chain[1] or (points[i][1] == on_chain[1] and points[i][0] < on_chain[0]): on_chain = points[i] \n",
    "\n",
    "    S = []; V.add_ch_point(on_chain) #\n",
    "    while not S or on_chain != S[0]:\n",
    "        S.append(on_chain); V.add_ch_line(); #\n",
    "        next = points[0]; V.add_ch_point(next) #\n",
    "        for point in points: \n",
    "            if next == on_chain or points_orientation(on_chain, next, point) == -1 or (points_orientation(on_chain, next, point) == 0 and points_distance_square(on_chain, next)< points_distance_square(on_chain, point)):\n",
    "                next = point; V.remove_ch_point(); V.add_ch_point(next) #\n",
    "        on_chain = next\n",
    "\n",
    "    V.remove_ch_point(); V.add_ending_line_and_pause_gif() #\n",
    "    return (S, V)"
   ]
  },
  {
   "cell_type": "markdown",
   "metadata": {},
   "source": [
    "### Algorytm Dziel i Zwyciężaj"
   ]
  },
  {
   "cell_type": "code",
   "execution_count": 7,
   "metadata": {},
   "outputs": [],
   "source": [
    "# Driver code\n",
    "def divide_and_conquer(points):\n",
    "    V = Visualizer()\n",
    "    V.add_point(points)\n",
    "    VD = dict()\n",
    "    points = sorted(points)\n",
    "    new_points = [points[0]]\n",
    "    old_points = []\n",
    "    for i in range(1, len(points) - 1):\n",
    "        if points[i][0] != points[i-1][0] or points[i][0] != points[i+1][0]: \n",
    "            new_points.append(points[i])\n",
    "        else: old_points.append(points[i])\n",
    "    \n",
    "    new_points.append(points[-1])\n",
    "    V.add_point(old_points, color = 'white')\n",
    "\n",
    "    ans = divide_and_conquer_main_func(new_points, V, VD)\n",
    "    for i in range(100):\n",
    "        V.add_line_segment((points[0], points[0]))\n",
    "\n",
    "    return ans, V\n",
    "\n",
    "# Main function\n",
    "def divide_and_conquer_main_func(points, V, VD):\n",
    "    if len(points) <= 5: \n",
    "        ans = jarvis_algorithm(points)[0]\n",
    "        for i in range(len(ans)):\n",
    "            if ans[i] not in VD:\n",
    "                VD[ans[i]]=V.add_point(ans[i], color = 'red')\n",
    "            if (min(ans[i], ans[(i+1)%len(ans)]), max(ans[i], ans[(i+1)%len(ans)])) not in VD:\n",
    "                VD[(min(ans[i], ans[(i+1)%len(ans)]), max(ans[i], ans[(i+1)%len(ans)]))] = V.add_line_segment((min(ans[i], ans[(i+1)%len(ans)]), max(ans[i], ans[(i+1)%len(ans)])), color='red')\n",
    "        return ans\n",
    "\n",
    "    left_part = divide_and_conquer_main_func(points[:len(points)//2 + 2], V, VD)\n",
    "    right_part = divide_and_conquer_main_func(points[len(points)//2 + 2:], V, VD)\n",
    "\n",
    "    return merge(left_part, right_part, V, VD)\n",
    "\n",
    "# Merge function\n",
    "def merge(a, b, V, VD):\n",
    "\n",
    "    if len(a) == 0: return b\n",
    "    elif len(b) == 0: return a\n",
    "\n",
    "    max_right_ind = 0\n",
    "    for i in range(len(a)): \n",
    "        if a[i][0] > a[max_right_ind][0]: max_right_ind = i \n",
    "\n",
    "    max_left_ind = 0\n",
    "    for i in range(len(b)): \n",
    "        if b[i][0] < b[max_left_ind][0]: max_left_ind = i \n",
    "\n",
    "    top_a_ind = bottom_a_ind = max_right_ind\n",
    "    top_b_ind = bottom_b_ind = max_left_ind\n",
    "\n",
    "    curr_top_line = V.add_line_segment((a[top_a_ind], b[top_b_ind]), color = 'green')\n",
    "    curr_bottom_line = V.add_line_segment((a[bottom_a_ind], b[bottom_b_ind]), color = 'green')\n",
    "\n",
    " \n",
    "    while True:\n",
    "        done = True\n",
    "        while len(a) > 1 and points_orientation(b[top_b_ind], a[top_a_ind], a[(top_a_ind + 1)%len(a)]) == -1 or (points_orientation(b[top_b_ind], a[top_a_ind], a[(top_a_ind + 1)%len(a)]) == 0 and points_distance_square(b[top_b_ind], a[top_a_ind]) < points_distance_square(b[top_b_ind], a[(top_a_ind + 1)%len(a)])): \n",
    "            top_a_ind = (top_a_ind + 1)%len(a)\n",
    "            V.remove_figure(curr_top_line)\n",
    "            curr_top_line = V.add_line_segment((a[top_a_ind], b[top_b_ind]), color = 'green')\n",
    "\n",
    "        while len(b) > 1 and points_orientation(a[top_a_ind], b[top_b_ind], b[(top_b_ind - 1 + len(b))%len(b)]) == 1 or (points_orientation(a[top_a_ind], b[top_b_ind], b[(top_b_ind - 1 + len(b))%len(b)]) == 0 and points_distance_square(b[top_b_ind], a[top_a_ind]) < points_distance_square(b[(top_b_ind - 1 + len(b))%len(b)], a[top_a_ind])): \n",
    "            top_b_ind = (top_b_ind - 1 + len(b))%len(b)\n",
    "            V.remove_figure(curr_top_line)\n",
    "            curr_top_line = V.add_line_segment((a[top_a_ind], b[top_b_ind]), color = 'green')\n",
    "            done = False\n",
    "            \n",
    "        if done: break\n",
    "        \n",
    "    while True:\n",
    "        done = True\n",
    "        while len(a) > 1 and points_orientation(b[bottom_b_ind], a[bottom_a_ind], a[(bottom_a_ind - 1 + len(a))%len(a)]) == 1 or (points_orientation(b[bottom_b_ind], a[bottom_a_ind], a[(bottom_a_ind - 1 + len(a))%len(a)]) == 0 and points_distance_square(b[bottom_b_ind], a[bottom_a_ind]) < points_distance_square(b[bottom_b_ind], a[(bottom_a_ind - 1 + len(a))%len(a)])): \n",
    "            bottom_a_ind = (bottom_a_ind - 1 + len(a))%len(a)\n",
    "            V.remove_figure(curr_bottom_line)\n",
    "            curr_bottom_line = V.add_line_segment((a[bottom_a_ind], b[bottom_b_ind]), color = 'green')\n",
    "\n",
    "\n",
    "        while len(b) > 1 and points_orientation(a[bottom_a_ind], b[bottom_b_ind], b[(bottom_b_ind + 1)%len(b)]) == -1 or (points_orientation(a[bottom_a_ind], b[bottom_b_ind], b[(bottom_b_ind + 1)%len(b)]) == 0 and points_distance_square(b[bottom_b_ind], a[bottom_a_ind]) < points_distance_square(b[(bottom_b_ind + 1)%len(b)], a[bottom_a_ind])): \n",
    "            bottom_b_ind = (bottom_b_ind + 1)%len(b)\n",
    "            V.remove_figure(curr_bottom_line)\n",
    "            curr_bottom_line = V.add_line_segment((a[bottom_a_ind], b[bottom_b_ind]), color = 'green')\n",
    "            done = False\n",
    "\n",
    "        if done: break\n",
    "\n",
    "    if (min(a[bottom_a_ind], b[bottom_b_ind]), max(a[bottom_a_ind], b[bottom_b_ind])) not in VD and (a[bottom_a_ind] in VD and b[bottom_b_ind] in VD):\n",
    "        VD[(min(a[bottom_a_ind], b[bottom_b_ind]), max(a[bottom_a_ind], b[bottom_b_ind]))] = V.add_line_segment((min(a[bottom_a_ind], b[bottom_b_ind]), max(a[bottom_a_ind], b[bottom_b_ind])), color='red')\n",
    "    if (min(a[top_a_ind], b[top_b_ind]), max(a[top_a_ind], b[top_b_ind])) not in VD and (a[top_a_ind] in VD and b[top_b_ind] in VD):\n",
    "        VD[(min(a[top_a_ind], b[top_b_ind]), max(a[top_a_ind], b[top_b_ind]))] = V.add_line_segment((min(a[top_a_ind], b[top_b_ind]), max(a[top_a_ind], b[top_b_ind])), color='red')\n",
    "    V.remove_figure(curr_bottom_line)\n",
    "    V.remove_figure(curr_top_line)\n",
    "\n",
    "    new_points = []\n",
    "    i = top_a_ind\n",
    "    while i != bottom_a_ind: \n",
    "        new_points.append(a[i])\n",
    "        i = (i + 1) % len(a)\n",
    "    new_points.append(a[bottom_a_ind])\n",
    "\n",
    "    i = bottom_b_ind\n",
    "    while i != top_b_ind: \n",
    "        new_points.append(b[i])\n",
    "        i = (i + 1) % len(b)\n",
    "    new_points.append(b[top_b_ind])\n",
    "\n",
    "        \n",
    "    for i in range(len(a)):\n",
    "        if a[i] in new_points:\n",
    "            id = new_points.index(a[i])\n",
    "            if new_points[(id+1)%len(new_points)] != a[(i+1)%len(a)] and (min(a[i], a[(i+1)%len(a)]), max(a[i], a[(i+1)%len(a)])) in VD: \n",
    "                V.remove_figure(VD.pop((min(a[i], a[(i+1)%len(a)]), max(a[i], a[(i+1)%len(a)]))))\n",
    "            if new_points[(id-1+len(new_points))%len(new_points)] != a[(i-1+len(a))%len(a)] and (min(a[i], a[(i-1+len(a))%len(a)]), max(a[i], a[(i-1+len(a))%len(a)])) in VD: \n",
    "                V.remove_figure(VD.pop((min(a[i], a[(i-1+len(a))%len(a)]), max(a[i], a[(i-1+len(a))%len(a)]))))\n",
    "        else:\n",
    "            if a[i] in VD: V.remove_figure(VD.pop(a[i]))\n",
    "            if (min(a[i], a[(i+1)%len(a)]), max(a[i], a[(i+1)%len(a)])) in VD: V.remove_figure(VD.pop((min(a[i], a[(i+1)%len(a)]), max(a[i], a[(i+1)%len(a)]))))\n",
    "            if (min(a[i], a[(i-1+len(a))%len(a)]), max(a[i], a[(i-1+len(a))%len(a)])) in VD: V.remove_figure(VD.pop((min(a[i], a[(i-1+len(a))%len(a)]), max(a[i], a[(i-1+len(a))%len(a)]))))\n",
    "    \n",
    "    for i in range(len(b)):\n",
    "        if b[i] in new_points:\n",
    "            id = new_points.index(b[i])\n",
    "            if new_points[(id+1)%len(new_points)] != b[(i+1)%len(b)] and (min(b[i], b[(i+1)%len(b)]), max(b[i], b[(i+1)%len(b)])) in VD: \n",
    "                V.remove_figure(VD.pop((min(b[i], b[(i+1)%len(b)]), max(b[i], b[(i+1)%len(b)]))))\n",
    "            if new_points[(id-1+len(new_points))%len(new_points)] != b[(i-1+len(b))%len(b)] and (min(b[i], b[(i-1+len(b))%len(b)]), max(b[i], b[(i-1+len(b))%len(b)])) in VD: \n",
    "                V.remove_figure(VD.pop((min(b[i], b[(i-1+len(b))%len(b)]), max(b[i], b[(i-1+len(b))%len(b)]))))\n",
    "        else:\n",
    "            if b[i] in VD: V.remove_figure(VD.pop(b[i]))\n",
    "            if (min(b[i], b[(i+1)%len(b)]), max(b[i], b[(i+1)%len(b)])) in VD: V.remove_figure(VD.pop((min(b[i], b[(i+1)%len(b)]), max(b[i], b[(i+1)%len(b)]))))\n",
    "            if (min(b[i], b[(i-1+len(b))%len(b)]), max(b[i], b[(i-1+len(b))%len(b)])) in VD: V.remove_figure(VD.pop((min(b[i], b[(i-1+len(b))%len(b)]), max(b[i], b[(i-1+len(b))%len(b)]))))\n",
    "            \n",
    "\n",
    "    return new_points"
   ]
  },
  {
   "cell_type": "markdown",
   "metadata": {},
   "source": [
    "### Algorytm Chana"
   ]
  },
  {
   "cell_type": "code",
   "execution_count": 8,
   "metadata": {},
   "outputs": [],
   "source": [
    "def chan_algorithm(points):\n",
    "\n",
    "    V = Visualizer()\n",
    "    V.add_point(points)\n",
    "\n",
    "    added_elements = []\n",
    "\n",
    "    def most_acute(hull, a):\n",
    "        left_before = points_orientation(a, hull[(len(hull) - 1) % len(hull)], hull[0])\n",
    "        left_after = points_orientation(a, hull[0], hull[1% len(hull)])\n",
    "        if left_before == 0 and left_after == 0: return hull[0] if points_distance_square(a, hull[0]) > points_distance_square(a, hull[1 %len(hull)]) else hull[1 % len(hull)]\n",
    "        for x in range(len(hull)):\n",
    "            mid_before = points_orientation(a, hull[(x + len(hull) - 1) % len(hull)], hull[x])\n",
    "            mid_after = points_orientation(a, hull[x], hull[(x + 1) % len(hull)])\n",
    "            if mid_after == 1 and (mid_before == 0 or mid_before == -1): \n",
    "                return hull[x]\n",
    "\t\n",
    "\n",
    "    min_y_ind = 0\n",
    "    for i in range(len(points)):\n",
    "        if points[i][1] < points[min_y_ind][1]: min_y_ind = i\n",
    "\n",
    "    for t in range(1, len(points)):\n",
    "        while added_elements: V.remove_figure(added_elements.pop())\n",
    "        m = min(2 **2 ** t, len(points))\n",
    "        hulls = [graham_algorithm(points[i * m:i * m +m])[0] for i in range((len(points)+m-1)//m)] \n",
    "        colors = ['blue', 'magenta', 'black', 'green', 'orange', 'yellow', 'pink', 'purple', 'cyan', 'brown']\n",
    "        for i in range(len(hulls)): \n",
    "            added_elements.append(V.add_point(points[i * m:i * m +m], color = colors[i%len(colors)]))\n",
    "            hull_sides = []\n",
    "            for j in range(len(hulls[i])):\n",
    "                hull_sides.append((hulls[i][j], hulls[i][(j+1)%len(hulls[i])]))\n",
    "            added_elements.append(V.add_line_segment(hull_sides, color = colors[i%len(colors)]))\n",
    "            \n",
    "            \n",
    "        if len(hulls) == 1:  \n",
    "            hull_sides = []\n",
    "            for j in range(len(hulls[0])):\n",
    "                hull_sides.append((hulls[0][j], hulls[0][(j+1)%len(hulls[0])]))\n",
    "            added_elements.append(V.add_line_segment(hull_sides, color = colors[0%len(colors)]))\n",
    "            return hulls[0], V\n",
    "\n",
    "        ans_hull = [] \n",
    "        on_chain = points[min_y_ind]\n",
    "\n",
    "        # pseudo jarvis\n",
    "        for i in range(m):\n",
    "            if i > 0: V.remove_figure(added_elements.pop())\n",
    "            ans_hull.append(on_chain); added_elements.append(V.add_point(on_chain, color = 'red')); added_elements.append(V.add_line_segment((ans_hull[len(ans_hull)-1], ans_hull[(2*len(ans_hull)-2)%len(ans_hull)]), color = 'red'))\n",
    "            next = most_acute(hulls[0], on_chain); added_elements.append(V.add_line_segment((ans_hull[-1], next), color = 'green'))\n",
    "            for j in range(1, len(hulls)):\n",
    "                candidate = most_acute(hulls[j], on_chain)\n",
    "                if points_orientation(on_chain, next, candidate) == -1 or (points_orientation(on_chain, next, candidate) == 0 and points_distance_square(on_chain, next) < points_distance_square(on_chain, candidate)):\n",
    "                    next = candidate\n",
    "                    V.remove_figure(added_elements.pop())\n",
    "                    added_elements.append(V.add_line_segment((ans_hull[-1], next), color = 'green'))\n",
    "            \n",
    "            prvvv=on_chain\n",
    "            on_chain = next\n",
    "            if on_chain == points[min_y_ind]: \n",
    "                V.add_line_segment((prvvv, on_chain), color= 'red')\n",
    "                # dodatkowy czas\n",
    "                for i in range(10):\n",
    "                    V.add_line_segment((points[0], points[0]))\n",
    "                return ans_hull, V\n",
    "\n",
    "    # dodatkowy czas\n",
    "    for i in range(10):\n",
    "        V.add_line_segment((points[0], points[0]))\n",
    "    return [], V"
   ]
  },
  {
   "cell_type": "markdown",
   "metadata": {},
   "source": [
    "### Algorytm przyrostowy"
   ]
  },
  {
   "cell_type": "code",
   "execution_count": 9,
   "metadata": {},
   "outputs": [],
   "source": [
    "class Node:\n",
    "    def __init__(self, point):\n",
    "        self.point = point\n",
    "        self.prev = None\n",
    "        self.next = None\n",
    "\n",
    "class DoublyLinkedList:\n",
    "    def __init__(self):\n",
    "        self.head = None\n",
    "        self.tail = None\n",
    "\n",
    "    def append(self, point, other = None):\n",
    "        new_node = Node(point)\n",
    "        if not self.head:\n",
    "            self.head = new_node\n",
    "            self.tail = new_node\n",
    "        elif not other or other == self.tail:\n",
    "            new_node.prev = self.tail\n",
    "            self.tail.next = new_node\n",
    "            self.tail = new_node\n",
    "        else:\n",
    "            new_node.next = other.next\n",
    "            new_node.prev = other\n",
    "            other.next.prev = new_node\n",
    "            other.next = new_node\n",
    "\n",
    "        return new_node\n",
    "\n",
    "    def prepend(self, point, other = None):\n",
    "        new_node = Node(point)\n",
    "        if not self.head:\n",
    "            self.head = new_node\n",
    "            self.tail = new_node\n",
    "        elif not other or other == self.head:\n",
    "            new_node.next = self.head\n",
    "            self.head.prev = new_node\n",
    "            self.head = new_node\n",
    "        else:\n",
    "            new_node.next = other\n",
    "            new_node.prev = other.prev\n",
    "            other.prev.next = new_node\n",
    "            other.prev = new_node\n",
    "        \n",
    "        return new_node\n",
    "    \n",
    "    def get_next(self, other):\n",
    "        if other == None: return None\n",
    "        if other == self.tail: return self.head\n",
    "        return other.next\n",
    "\n",
    "    def get_prv(self, other):\n",
    "        if other == None: return None\n",
    "        if other == self.head: return self.tail\n",
    "        return other.prev\n",
    "\n",
    "    def delete(self, other, V, VD):\n",
    "        if self.head == self.tail and self.head == other: \n",
    "            self.head = self.tail = None\n",
    "\n",
    "        remove_point_from_V(V, VD, other.point)\n",
    "\n",
    "        if other == self.head:\n",
    "            self.head = self.head.next\n",
    "            self.head.prev = None\n",
    "        elif other == self.tail:\n",
    "            self.tail = self.tail.prev\n",
    "            self.tail.next = None\n",
    "        else: \n",
    "            other.prev.next = other.next\n",
    "            other.next.prev = other.prev\n",
    "            other.next = other.prev = None\n",
    "\n",
    "        if self.head == None or self.tail == None:\n",
    "            self.head = self.tail = None\n",
    "\n",
    "    def to_list(self):\n",
    "        current = self.head\n",
    "        ans = []\n",
    "        while current:\n",
    "            ans.append(current.point)\n",
    "            current = current.next\n",
    "        return ans\n",
    "    \n",
    "    def amend_the_hull(self, point, other, V, VD):\n",
    "        add_point_to_V(V, VD, point)\n",
    "        c1 = c2 = other\n",
    "        to_be_deleted = []\n",
    "        \n",
    "        while points_orientation(point, c1.point, self.get_next(c1).point) == -1 or (points_orientation(point, c1.point, self.get_next(c1).point) == 0 and points_distance_square(point, c1.point) < points_distance_square(point, self.get_next(c1).point)):\n",
    "            if c1 != other: \n",
    "                to_be_deleted.append(c1)\n",
    "            c1 = self.get_next(c1)\n",
    "\n",
    "        while points_orientation(point, c2.point, self.get_prv(c2).point) == 1 or (points_orientation(point, c2.point, self.get_prv(c2).point) == 0 and points_distance_square(point, c2.point) < points_distance_square(point, self.get_prv(c2).point)):\n",
    "            if c2 != other: \n",
    "                to_be_deleted.append(c2)\n",
    "            c2 = self.get_prv(c2)\n",
    "\n",
    "        if c1 != other and c2 != other:\n",
    "            to_be_deleted.append(other)\n",
    "\n",
    "          \n",
    "        \n",
    "        for x in to_be_deleted: self.delete(x, V, VD)\n",
    "\n",
    "\n",
    "        a=V.add_line_segment([(c1.point, point), (c2.point, point)], color='green')\n",
    "\n",
    "        V.remove_figure(a)\n",
    "\n",
    "\n",
    "        zzzzz= self.prepend(point, c1)\n",
    "\n",
    "        if self.get_next(c1) != c2:\n",
    "            remove_segment_from_V(V, VD, (c1.point, c2.point))\n",
    "\n",
    "        add_segment_to_V(V, VD, (c1.point, point))\n",
    "        add_segment_to_V(V, VD, (c2.point, point))\n",
    "\n",
    "\n",
    "        \n",
    "        return zzzzz\n",
    "    \n",
    "\n",
    "def add_segment_to_V(V, VD, new_points, color = 'red'):\n",
    "        VD[(min(new_points[0], new_points[1]), max(new_points[0], new_points[1]))] = V.add_line_segment((min(new_points[0], new_points[1]), max(new_points[0], new_points[1])), color = color)\n",
    "\n",
    "def add_point_to_V(V, VD, newpoint, color = 'red'):\n",
    "    VD[newpoint] = V.add_point(newpoint, color = color)\n",
    "\n",
    "def remove_point_from_V(V, VD, point):\n",
    "    V.remove_figure(VD[point])  \n",
    "    del VD[point]\n",
    "\n",
    "def remove_segment_from_V(V, VD, point):\n",
    "    if (min(point[0], point[1]), max(point[0], point[1])) in VD:\n",
    "        V.remove_figure(VD[(min(point[0], point[1]), max(point[0], point[1]))])  \n",
    "        del VD[(min(point[0], point[1]), max(point[0], point[1]))]\n",
    "\n",
    "def incremental(points):\n",
    "\n",
    "    V = Visualizer()\n",
    "    VD = dict()\n",
    "    V.add_point(points)\n",
    "    if len(points) < 2: return points, V \n",
    "\n",
    "    points = sorted(points)\n",
    "\n",
    "    new_points = [points[0]]\n",
    "    old_points = []\n",
    "    for i in range(1, len(points) - 1):\n",
    "        if points[i][0] != points[i-1][0] or points[i][0] != points[i+1][0]: \n",
    "            new_points.append(points[i])\n",
    "        else: old_points.append(points[i])\n",
    "    \n",
    "    V.add_point(old_points, color = 'white')\n",
    "    \n",
    "    new_points.append(points[-1])\n",
    "    \n",
    "    CH = DoublyLinkedList()\n",
    "    CH.append(new_points[0])\n",
    "    added_last = CH.append(new_points[1])\n",
    "    add_segment_to_V(V, VD, (new_points[0], new_points[1]))\n",
    "    add_point_to_V(V, VD, new_points[0])\n",
    "    add_point_to_V(V, VD, new_points[1])\n",
    "\n",
    "    for i in range(2, len(new_points)): \n",
    "        added_last = CH.amend_the_hull(new_points[i], added_last, V, VD)\n",
    "        to_be_deldel = []\n",
    "        for key in VD:\n",
    "            if isinstance(key, tuple) and isinstance(key[0], tuple):\n",
    "                if key[0] not in VD or key[1] not in VD:\n",
    "                    to_be_deldel.append(key)\n",
    "        for aa in to_be_deldel: remove_segment_from_V(V, VD, aa)\n",
    "    \n",
    "    # dodatkowy czas\n",
    "    for i in range(10):\n",
    "        V.add_line_segment((points[0], points[0]))\n",
    "        \n",
    "    return CH.to_list(), V   "
   ]
  },
  {
   "cell_type": "markdown",
   "metadata": {},
   "source": [
    "### Algorytm QuickHull"
   ]
  },
  {
   "cell_type": "code",
   "execution_count": 10,
   "metadata": {},
   "outputs": [],
   "source": [
    "#dystans punktu p od linii, ktora laczy punkty a i b\n",
    "\n",
    "def distance(a,b,p):\n",
    "    return abs((p[1]-a[1])*(b[0]-a[0]) - (b[1]-a[1])*(p[0]-a[0]))\n",
    "\n",
    "\n",
    "def recur(a, b, p, ch, points, V, VD):\n",
    "    right = []\n",
    "    if(len(p)==0):\n",
    "        return\n",
    "    #wyznaczam punkty po prawej stronie prostej ab\n",
    "    for i in range(len(p)): \n",
    "        if(points_orientation(a, b, p[i]) == -1):\n",
    "            right.append(p[i])\n",
    "\n",
    "    #wyznaczam punkt najdalej lezacy od prostej ab\n",
    "    if(len(right)==0):\n",
    "        return \n",
    "    \n",
    "    else:\n",
    "        dist = -1\n",
    "        for i in range(len(right)):\n",
    "            if distance(a,b,right[i]) > dist:\n",
    "                index = i\n",
    "                dist = distance(a,b,right[i])\n",
    "\n",
    "        a_ind = ch.index(a)\n",
    "        new_p = right[index]\n",
    "        ch.insert(a_ind+1, new_p)\n",
    "        V.add_point(new_p, color='red')\n",
    "        a1, b1 = ch[a_ind], ch[(a_ind+2)%len(ch)]\n",
    "        VD[(min(a1, new_p), max(a1, new_p))] = V.add_line_segment((min(a1, new_p), max(a1, new_p)), color = 'red')\n",
    "        VD[(min(new_p, b1), max(new_p, b1))] = V.add_line_segment((min(new_p, b1), max(new_p, b1)), color = 'red')\n",
    "\n",
    "        if (a_ind+3)%len(ch) != a_ind and (min(a1, b1), max(a1, b1)) in VD:\n",
    "            V.remove_figure(VD.pop((min(a1, b1), max(a1, b1))))\n",
    "  \n",
    "        recur(a, new_p, right, ch, points, V, VD)\n",
    "        recur(new_p, b, right, ch, points, V, VD)    \n",
    "\n",
    "        # if STRT and not STRT2 and (min(a1, b1), max(a1, b1)) in VD:\n",
    "        #     V.remove_figure(VD.pop((min(a1, b1), max(a1, b1))))\n",
    "    \n",
    "def Quickhull(points):\n",
    "    VD = dict()\n",
    "    V = Visualizer()\n",
    "    V.add_point(points)\n",
    "    if len(points) < 2: return points, V\n",
    "    ch = [] \n",
    "\n",
    "    a = min(points)\n",
    "    b = max(points)   \n",
    "\n",
    "    ch.append(a)\n",
    "    ch.append(b)\n",
    "\n",
    "    V.add_point(a, color='red')\n",
    "    V.add_point(b, color='red')\n",
    "    VD[(min(a, b), max(a, b))] = V.add_line_segment((min(a, b), max(a, b)), color = 'red')\n",
    "    \n",
    "    recur(a,b,points,ch,points,V,VD)\n",
    "    recur(b,a,points,ch,points,V,VD)\n",
    "\n",
    "    # dodatkowy czas\n",
    "    for i in range(10):\n",
    "        V.add_line_segment((points[0], points[0]))\n",
    "    return ch, V"
   ]
  },
  {
   "cell_type": "markdown",
   "metadata": {},
   "source": [
    "### Algorytm Upper-Lower"
   ]
  },
  {
   "cell_type": "code",
   "execution_count": 11,
   "metadata": {},
   "outputs": [],
   "source": [
    "def UpperAndLower(points):\n",
    "    V = Visualizer()\n",
    "    if len(points) < 3: return points, V\n",
    "    sorted_points = sorted(points, key=lambda x: (x[0], x[1]))\n",
    "\n",
    "    V.add_point(points)\n",
    "\n",
    "    upper_points = []\n",
    "    lower_points = []\n",
    "    upper_lines = []\n",
    "    lower_lines = []\n",
    "\n",
    "    upper, lower = [sorted_points[0], sorted_points[1]], [sorted_points[0], sorted_points[1]]\n",
    "    V.add_point(sorted_points[0], color='green')\n",
    "    upper_points.append(V.add_point(sorted_points[1], color='red'))\n",
    "    upper_lines.append(V.add_line_segment((sorted_points[0], sorted_points[1]), color = 'red'))\n",
    "    lower_points.append(V.add_point(sorted_points[1], color='magenta'))\n",
    "    lower_lines.append(V.add_line_segment((sorted_points[0], sorted_points[1]), color = 'magenta'))\n",
    "\n",
    "    for idx in range(2, len(sorted_points)):\n",
    "        while len(upper) > 1 and points_orientation(upper[-2], upper[-1], sorted_points[idx]) != -1:\n",
    "            upper.pop()\n",
    "            if upper_lines: V.remove_figure(upper_lines.pop())\n",
    "            V.remove_figure(upper_points.pop())\n",
    "        upper.append(sorted_points[idx])     \n",
    "        upper_points.append(V.add_point(sorted_points[idx], color = 'red'))    \n",
    "        if len(upper)>1: upper_lines.append(V.add_line_segment((upper[-1], upper[-2]), color='red'))\n",
    "\n",
    "        while len(lower) > 1 and points_orientation(lower[-2], lower[-1], sorted_points[idx]) != 1:\n",
    "            lower.pop()\n",
    "            if lower_lines: V.remove_figure(lower_lines.pop())\n",
    "            V.remove_figure(lower_points.pop())\n",
    "        lower.append(sorted_points[idx])\n",
    "        lower_points.append(V.add_point(sorted_points[idx], color = 'magenta'))\n",
    "        if len(lower)>1:lower_lines.append(V.add_line_segment((lower[-1], lower[-2]), color='magenta'))\n",
    "\n",
    "    lower.reverse()\n",
    "    V.add_point(upper[-1], color = 'green')\n",
    "    \n",
    "    upper.pop()\n",
    "    lower.pop()\n",
    "\n",
    "    \n",
    "    hull = lower + upper\n",
    "\n",
    "    # dodatkowy czas\n",
    "    for i in range(10):\n",
    "        V.add_line_segment((points[0], points[0]))\n",
    "    \n",
    "    return list(reversed(hull)), V"
   ]
  },
  {
   "cell_type": "code",
   "execution_count": 16,
   "metadata": {},
   "outputs": [
    {
     "name": "stdout",
     "output_type": "stream",
     "text": [
      "Everything correct\n"
     ]
    }
   ],
   "source": [
    "#DRIVER CODE\n",
    "# points = load_points('dir_name')\n",
    "points = [(0, 0), (0, 1.7973882603514757), (0, 2.0752403541505116), (0, 2.2185340801627396), (0, 2.6608040616600004), (0, 3.9393132458181257), (0, 4.500955174019103), (0, 6.10381997122909), (0, 7.613834400777135), (0, 8.50580304623626), (0, 9.490032788769971), (0, 10), (0.19966653659046707, 9.800333463409533), (1.1438086484599874, 8.856191351540012), (1.3082355490525677, 0), (1.5427484638692945, 1.5427484638692945), (1.5885826456879937, 0), (2.1837136463347817, 7.816286353665218), (2.196383939445521, 2.196383939445521), (2.5591114308476373, 0), (2.643793302924764, 2.643793302924764), (2.6980706555319376, 2.6980706555319376), (2.7871011015218237, 0), (2.8103133828068483, 7.189686617193152), (2.944724966178429, 7.055275033821571), (3.9525641380748233, 0), (4.07851557705991, 5.92148442294009), (4.142520093348764, 4.142520093348764), (4.7312824099383635, 0), (5.099125014270967, 0), (6.330742379366302, 3.669257620633698), (6.38058017203766, 3.61941982796234), (6.584595708497838, 6.584595708497838), (6.606480696570816, 6.606480696570816), (6.71771023223844, 3.2822897677615597), (7.246855577824873, 0), (7.718160744943332, 7.718160744943332), (7.884652129621108, 7.884652129621108), (7.964150626275728, 0), (8.031189732051807, 0), (8.41506433861673, 8.41506433861673), (9.862473974771763, 0.13752602522823665), (10, 0), (10, 10)]\n",
    "# points = [(-9.883896367316858, 1.5194053442516995), (-4.781727101317081, -8.78265824955803), (9.162506867881934, 4.006053905780149), (0.8296951862258517, 9.965520854323353), (-8.912003504104684, -4.536098934417749), (-9.730876830414482, -2.3043515598325257), (-9.985464813245907, 0.5389735275761507), (-9.71780492841117, 2.3588699356572413), (6.425223022930782, 7.662669841876278), (-9.971600394557958, 0.7531172360606022), (9.903038263856201, -1.3891843450744576), (9.995607621887622, -0.29635834603075384), (5.8336972818623964, -8.122067225995565), (5.310381268776375, 8.473479260624234), (6.829941941147863, -7.304238021898613), (-8.067259874908823, -5.909256984654339), (4.004705025221838, 9.163096510512315), (-9.99983716350094, -0.0570675342508742), (-0.9083076679329171, 9.958663423390423), (-5.049350760323643, -8.63157325747856), (7.665708414852659, -6.421597503616771), (2.468370050110699, 9.690570122325957), (-3.349427715332184, -9.422384728918928), (-4.635164836736783, 8.860882965950903), (-9.985380950103664, -0.5405250052558587), (-3.1537677335381313, -9.489665383083523), (2.3903223116778225, -9.710116335363608), (-7.667461368685796, -6.419504354676531), (8.396974238854911, 5.430545426751073), (6.648825924645619, 7.469478818750364), (7.430764994261471, -6.6920648233604485), (-9.382814680710208, 3.4587264516652634), (9.473422800709658, 3.2022274183752746), (5.561856798010405, 8.31058054280358), (-9.093513914681669, -4.1602890144184554), (-4.004165742817024, -9.163332183439088), (0.2759197054448449, -9.996192691027282), (-8.454205535837765, 5.341011960088658), (-8.539145427440095, 5.204132528003962), (-7.031509143095565, -7.110406399817345), (-2.284223149410771, -9.73562142873766), (9.975966572159914, -0.692885958255748), (2.9772729128222473, 9.546509624075961), (4.677468003056876, 8.838625067304255), (-9.845814013083409, -1.7492702534972684), (9.369223571350133, 3.4953754691101575), (-8.810064313788486, -4.73104288576109), (-6.996401242101898, 7.144954139776897), (-6.493776020560066, 7.604661267591021), (3.858726136319262, -9.225520722695636), (-8.404344755285605, 5.419131778643454), (-5.616173951091672, -8.273970639969624), (6.93315837364373, 7.206338527017298), (-8.184908506298012, -5.745195622738226), (3.334971584666764, -9.427511046371956), (-6.726057915081113, -7.400009792086407), (-3.168905960665964, 9.484620973579057), (-2.4312952099593055, 9.69993832980545), (-8.574557017634096, -5.1455779025627315), (-8.80723604231709, 4.736305870075413), (3.173037471306914, -9.483239594446733), (6.757653062492986, -7.3711685021425986), (-1.704599912146855, -9.853645982046896), (4.602342936611347, 8.877974965825464), (-8.185999744833357, -5.743640672743049), (6.634459129800327, -7.482242448291094), (9.998341096338404, -0.1821409379314565), (9.997663282985222, 0.21616863798699953), (-9.89001739330136, -1.4790388636532168), (-9.339804368384355, 3.5732414360505382), (-7.544936016941017, -6.563074013011451), (8.976310339371325, -4.407476907630425), (5.926537880983346, -8.054573157236169), (-0.9196040405782818, 9.957626645368467), (-3.207619643170612, 9.47159839862027), (-0.299895997586585, 9.995502107979947), (8.42805874808116, 5.382176672954228), (-4.24753590592292, -9.053090009930067), (7.397584186897954, -6.728725599826265), (1.9003222629547423, 9.817778531669909), (-6.438580714838612, 7.651449429912499), (-9.49659538409681, -3.132838347369869), (-5.443446114962391, -8.388616953556816), (9.999716132328611, -0.0753476797713434), (-5.510040284202033, 8.345025827789318), (6.193361930916605, -7.85125900685189), (6.908671744985968, 7.229817059928456), (-6.399524379081108, 7.684145217364554), (4.807497583562644, 8.76857839014052), (6.681997755713359, -7.439818948915465), (7.030181928165595, 7.111718642978916), (-9.988467614510885, 0.4801194787417337), (8.131039751428332, -5.821184807295872), (2.0134084916742365, 9.795212414524459), (9.997652657697225, -0.21665949330603063), (4.479955482135854, 8.940357871924418), (9.247362452552007, 3.806085610063353), (3.9286046737201135, -9.195980932865426), (-1.6548135029790392, 9.862129195582375), (-4.351286303806949, -9.003682996546583)]\n",
    "# points = [(-6.658355333673498, 7.46098547448939), (-1.4477138124303688, 9.894651318631613), (6.149610630085583, -7.885574747495481), (-8.116857338085737, -5.8409440121579435), (-6.174299723750963, 7.86625850841992), (9.43477869552029, 3.3143552867121038), (2.8753866681127316, -9.577690301363871), (3.1314609513515097, -9.497049663456579), (8.585063057908734, -5.1280300595580295), (7.409472589050965, 6.7156322079237185)]\n",
    "\n",
    "func = [jarvis_algorithm, chan_algorithm, divide_and_conquer, incremental, Quickhull, UpperAndLower]\n",
    "\n",
    "ans = [F(points) for F in func]\n",
    "\n",
    "corr_ans = set(ans[0][0])\n",
    "for i, (x, _) in enumerate(ans): \n",
    "    if set(x) != corr_ans: print(f'Func {i} broken')\n",
    "else: print(\"Everything correct\")\n"
   ]
  },
  {
   "cell_type": "code",
   "execution_count": 17,
   "metadata": {},
   "outputs": [
    {
     "name": "stdout",
     "output_type": "stream",
     "text": [
      "jarvis_algorithm\n"
     ]
    },
    {
     "data": {
      "image/png": "[encoded data removed]",
      "text/plain": [
       "<Figure size 640x480 with 1 Axes>"
      ]
     },
     "metadata": {},
     "output_type": "display_data"
    }
   ],
   "source": [
    "i = 0\n",
    "V = ans[i][1]\n",
    "print(func[i].__name__)\n",
    "if isinstance(V, Visualiser_embed): V = V.v\n",
    "\n",
    "# V.show_gif(100)\n",
    "V.show()"
   ]
  },
  {
   "cell_type": "code",
   "execution_count": 18,
   "metadata": {},
   "outputs": [
    {
     "name": "stdout",
     "output_type": "stream",
     "text": [
      "chan_algorithm\n"
     ]
    },
    {
     "data": {
      "image/png": "[encoded data removed]",
      "text/plain": [
       "<Figure size 640x480 with 1 Axes>"
      ]
     },
     "metadata": {},
     "output_type": "display_data"
    }
   ],
   "source": [
    "i = 1\n",
    "V = ans[i][1]\n",
    "print(func[i].__name__)\n",
    "if isinstance(V, Visualiser_embed): V = V.v\n",
    "\n",
    "# V.show_gif(100)\n",
    "V.show()"
   ]
  },
  {
   "cell_type": "code",
   "execution_count": 19,
   "metadata": {},
   "outputs": [
    {
     "name": "stdout",
     "output_type": "stream",
     "text": [
      "divide_and_conquer\n"
     ]
    },
    {
     "data": {
      "image/png": "[encoded data removed]",
      "text/plain": [
       "<Figure size 640x480 with 1 Axes>"
      ]
     },
     "metadata": {},
     "output_type": "display_data"
    }
   ],
   "source": [
    "i = 2\n",
    "V = ans[i][1]\n",
    "print(func[i].__name__)\n",
    "if isinstance(V, Visualiser_embed): V = V.v\n",
    "\n",
    "# V.show_gif(100)\n",
    "V.show()"
   ]
  },
  {
   "cell_type": "code",
   "execution_count": 20,
   "metadata": {},
   "outputs": [
    {
     "name": "stdout",
     "output_type": "stream",
     "text": [
      "incremental\n"
     ]
    },
    {
     "data": {
      "image/png": "[encoded data removed]",
      "text/plain": [
       "<Figure size 640x480 with 1 Axes>"
      ]
     },
     "metadata": {},
     "output_type": "display_data"
    }
   ],
   "source": [
    "i = 3\n",
    "V = ans[i][1]\n",
    "print(func[i].__name__)\n",
    "if isinstance(V, Visualiser_embed): V = V.v\n",
    "\n",
    "# V.show_gif(100)\n",
    "V.show()"
   ]
  },
  {
   "cell_type": "code",
   "execution_count": 21,
   "metadata": {},
   "outputs": [
    {
     "name": "stdout",
     "output_type": "stream",
     "text": [
      "Quickhull\n"
     ]
    },
    {
     "data": {
      "image/png": "[encoded data removed]",
      "text/plain": [
       "<Figure size 640x480 with 1 Axes>"
      ]
     },
     "metadata": {},
     "output_type": "display_data"
    }
   ],
   "source": [
    "i = 4\n",
    "V = ans[i][1]\n",
    "print(func[i].__name__)\n",
    "if isinstance(V, Visualiser_embed): V = V.v\n",
    "\n",
    "# V.show_gif(100)\n",
    "V.show()"
   ]
  },
  {
   "cell_type": "code",
   "execution_count": 22,
   "metadata": {},
   "outputs": [
    {
     "name": "stdout",
     "output_type": "stream",
     "text": [
      "UpperAndLower\n"
     ]
    },
    {
     "data": {
      "image/png": "[encoded data removed]",
      "text/plain": [
       "<Figure size 640x480 with 1 Axes>"
      ]
     },
     "metadata": {},
     "output_type": "display_data"
    }
   ],
   "source": [
    "i = 5\n",
    "V = ans[i][1]\n",
    "print(func[i].__name__)\n",
    "if isinstance(V, Visualiser_embed): V = V.v\n",
    "\n",
    "# V.show_gif(100)\n",
    "V.show()"
   ]
  }
 ],
 "metadata": {
  "kernelspec": {
   "display_name": "Python 3 (ipykernel)",
   "language": "python",
   "name": "python3"
  },
  "language_info": {
   "codemirror_mode": {
    "name": "ipython",
    "version": 3
   },
   "file_extension": ".py",
   "mimetype": "text/x-python",
   "name": "python",
   "nbconvert_exporter": "python",
   "pygments_lexer": "ipython3",
   "version": "3.9.18"
  }
 },
 "nbformat": 4,
 "nbformat_minor": 2
}
