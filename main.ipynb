{
 "cells": [
  {
   "cell_type": "markdown",
   "metadata": {},
   "source": [
    "# Algotytmy obliczania otoczki wypukłej krok po kroku"
   ]
  },
  {
   "cell_type": "code",
   "execution_count": 8,
   "metadata": {},
   "outputs": [],
   "source": [
    "import numpy as np\n",
    "import pandas as pd\n",
    "import matplotlib.pyplot as plt\n",
    "from bitalg.visualizer.main import Visualizer\n",
    "from functools import cmp_to_key"
   ]
  },
  {
   "cell_type": "markdown",
   "metadata": {},
   "source": [
    "## Wczytywanie, zapisywanie zbiorów punktów do plikow"
   ]
  },
  {
   "cell_type": "code",
   "execution_count": 9,
   "metadata": {},
   "outputs": [],
   "source": [
    "def save_points(f_path, points):\n",
    "    with open(f_path, \"w\") as f:\n",
    "        f.write(f'{points}')\n",
    "\n",
    "def load_points(f_path):\n",
    "    with open(f_path, \"r\") as f:\n",
    "        return eval(f.readlines()[0])"
   ]
  },
  {
   "cell_type": "markdown",
   "metadata": {},
   "source": [
    "## Funkcje wyznacznika, orientacji oraz odległości"
   ]
  },
  {
   "cell_type": "code",
   "execution_count": 92,
   "metadata": {},
   "outputs": [],
   "source": [
    "def det(a, b, c):\n",
    "    return ((b[1]-a[1]) * (c[0] - b[0]) - (b[0] - a[0]) * (c[1] - b[1]))\n",
    "\n",
    "def points_orientation(a, b, c, eps = 0):\n",
    "    computed_det = det(a, b, c)\n",
    "    if computed_det > eps: return 1\n",
    "    elif computed_det < -eps: return -1\n",
    "    return 0\n",
    "\n",
    "def points_distance_sqare(a, b):\n",
    "    return ((a[0]-b[0])**2 + (a[1]-b[1])**2)"
   ]
  },
  {
   "cell_type": "markdown",
   "metadata": {},
   "source": [
    "## Algorytmy znajdowania otoczki wypukłej"
   ]
  },
  {
   "cell_type": "markdown",
   "metadata": {},
   "source": [
    "Wszyskie zaimplementowane poniżej algorytmy przyjmują listę punktów w postaci [(x1, y1)...] oraz zwracają listę kolejnych punktów otoczki postaci [(x1, y1)...]\n"
   ]
  },
  {
   "cell_type": "markdown",
   "metadata": {},
   "source": [
    "### Algorytm Grahama"
   ]
  },
  {
   "cell_type": "markdown",
   "metadata": {},
   "source": [
    "Algorytm Grahama tworzy otoczkę wypukłą poprzez utrzymywanie stosu, w którym znajdują się punkty, które mogą, ale nie muszą tworzyć otoczki wypukłej. Za każdym razem jest wstawiany na stos jeden punkt z zbioru punktów i jest on usuwany ze stosu, jeżeli nie jest punktem otoczki. Kiedy algorytm kończy się, stos zawiera tylko punkty otoczki wypukłej w kierunku przeciwnym do ruchu wskazówek zegera.\n",
    "\n",
    "Złożoność czasowa O(nlogn)"
   ]
  },
  {
   "cell_type": "code",
   "execution_count": 4,
   "metadata": {},
   "outputs": [],
   "source": [
    "def graham_algorithm(points):\n",
    "\n",
    "    lowest_y_point = points[0]\n",
    "    for i in range(len(points)): \n",
    "        if points[i][1] < lowest_y_point[1] or (points[i][1] == lowest_y_point[1] and points[i][0] < lowest_y_point[0]): lowest_y_point = points[i] \n",
    "\n",
    "    def side_comp(x, y):\n",
    "        orientation = points_orientation(lowest_y_point, x, y)\n",
    "        if orientation == 0: return points_distance_sqare(lowest_y_point, x) - points_distance_sqare(lowest_y_point, y)\n",
    "        return orientation\n",
    "\n",
    "    points.sort(key=cmp_to_key(side_comp))\n",
    "\n",
    "    new_points = [lowest_y_point]\n",
    "\n",
    "    for i in range(1, len(points)):\n",
    "        if i == len(points)-1 or points_orientation(lowest_y_point, points[i], points[i+1]) != 0: new_points.append(points[i])\n",
    "\n",
    "    S = [new_points[0]]\n",
    "    \n",
    "    for i in range(1, len(new_points)):\n",
    "        while len(S) > 1 and points_orientation(S[-2], S[-1], new_points[i]) >= 0: S.pop()\n",
    "\n",
    "        S.append(new_points[i])\n",
    "\n",
    "    return S"
   ]
  },
  {
   "cell_type": "markdown",
   "metadata": {},
   "source": [
    "### Algorytm Jarvisa"
   ]
  },
  {
   "cell_type": "markdown",
   "metadata": {},
   "source": [
    "Algorytm Jarvisa oblicza otoczkę wypukłą dla zbioru punktów przez technikę zwaną owijaniem paczki (gift wraping). Algorytm Jarvisa buduje sekwencję, w której każdy kolejny punkt ma najmniejszy kąt w odniesieniu do poprzedniego. Jeśli punkty mają ten sam kąt, wybieramy dalszy.\n",
    "\n",
    "Złożoność czasowa O(nh) (gdzie h to wielkość zbioru wynikowego)"
   ]
  },
  {
   "cell_type": "code",
   "execution_count": 5,
   "metadata": {},
   "outputs": [],
   "source": [
    "def jarvis_algorithm(points):\n",
    "    on_chain = points[0]\n",
    "    for i in range(len(points)): \n",
    "        if points[i][1] < on_chain[1] or (points[i][1] == on_chain[1] and points[i][0] < on_chain[0]): on_chain = points[i] \n",
    "\n",
    "    S = []\n",
    "    while not S or on_chain != S[0]:\n",
    "        S.append(on_chain)\n",
    "        next = points[0]\n",
    "        for point in points: \n",
    "            if next == on_chain or points_orientation(on_chain, next, point) == 1 or (points_orientation(on_chain, next, point) == 0 and points_distance_sqare(on_chain, next)< points_distance_sqare(on_chain, point)):\n",
    "                next = point\n",
    "        on_chain = next\n",
    "\n",
    "    return S"
   ]
  },
  {
   "cell_type": "markdown",
   "metadata": {},
   "source": [
    "### Algorytm Dziel i Zwyciężaj"
   ]
  },
  {
   "cell_type": "markdown",
   "metadata": {},
   "source": [
    "Algorytm ten polega na rekurencyjnym podziale zbioru na dwie części, po których przeprocesowaniu następuje ich łączenie. Podział wykonujemy wedle pionowej prostej przechodzącej przez element środkowy względem wspł. x. W tym celu na początu sortujemy cały zbiór punktów. W momencie gdy zbiór zawiera jedynie <= 5 punktów, Wykonujemy brutalny algorytm wyszukiwania otoczki.\n",
    "\n",
    "Łączenie odbywa się poprzez wybranie dla lewej otoczki punktu najbardziej wysuniętego w prawo p i dla prawej otoczki punktu najbardziej wysuniętego w lewo q. Następnie tworzymy dwa odcinki pq. Jeden z nich będziemy przesuwać w górę, a drugi w dół aż do utworzenia dolnej i górnej stycznej.\n",
    "\n",
    "Złożoność O(nlogn)"
   ]
  },
  {
   "cell_type": "code",
   "execution_count": 6,
   "metadata": {},
   "outputs": [],
   "source": [
    "# Driver code\n",
    "def divide_and_conquer(points):\n",
    "    return divide_and_conquer_main_func(sorted(points))\n",
    "\n",
    "# Main function\n",
    "def divide_and_conquer_main_func(points):\n",
    "    if len(points) <= 5: return jarvis_algorithm(points)\n",
    "\n",
    "    left_part = divide_and_conquer_main_func(points[:len(points)//2 + 2])\n",
    "    right_part = divide_and_conquer_main_func(points[len(points)//2 + 2:])\n",
    "\n",
    "    return merge(left_part, right_part)\n",
    "\n",
    "# Merge function\n",
    "def merge(a, b):\n",
    "\n",
    "    if len(a) == 0: return b\n",
    "    elif len(b) == 0: return a\n",
    "\n",
    "    max_right_ind = 0\n",
    "    for i in range(len(a)): \n",
    "        if a[i][0] > a[max_right_ind][0]: max_right_ind = i \n",
    "\n",
    "    max_left_ind = 0\n",
    "    for i in range(len(b)): \n",
    "        if b[i][0] < b[max_left_ind][0]: max_left_ind = i \n",
    "\n",
    "    top_a_ind = bottom_a_ind = max_right_ind\n",
    "    top_b_ind = bottom_b_ind = max_left_ind\n",
    "\n",
    " \n",
    "    while True:\n",
    "        done = True\n",
    "        while points_orientation(b[top_b_ind], a[top_a_ind], a[(top_a_ind + 1)%len(a)]) != -1: \n",
    "            top_a_ind = (top_a_ind + 1)%len(a)\n",
    "\n",
    "        if points_orientation(a[top_a_ind], b[top_b_ind], b[(top_b_ind - 1 + len(b))%len(b)]) != 1: \n",
    "            top_b_ind = (top_b_ind - 1 + len(b))%len(b)\n",
    "            done = False\n",
    "            \n",
    "        if done: break\n",
    "        \n",
    "    while True:\n",
    "        done = True\n",
    "        while points_orientation(b[bottom_b_ind], a[bottom_a_ind], a[(bottom_a_ind - 1 + len(a))%len(a)]) != 1: \n",
    "            bottom_a_ind = (bottom_a_ind - 1 + len(a))%len(a)\n",
    "\n",
    "        if points_orientation(a[bottom_a_ind], b[bottom_b_ind], b[(bottom_b_ind + 1)%len(b)]) != -1: \n",
    "            bottom_b_ind = (bottom_b_ind + 1)%len(b)\n",
    "            done = False\n",
    "\n",
    "        if done: break\n",
    "\n",
    "    new_points = []\n",
    "    i = top_a_ind\n",
    "    while i != bottom_a_ind: \n",
    "        new_points.append(a[i])\n",
    "        i = (i + 1) % len(a)\n",
    "    new_points.append(a[bottom_a_ind])\n",
    "\n",
    "    i = bottom_b_ind\n",
    "    while i != top_b_ind: \n",
    "        new_points.append(b[i])\n",
    "        i = (i + 1) % len(b)\n",
    "    new_points.append(b[top_b_ind])\n",
    "\n",
    "    return new_points"
   ]
  },
  {
   "cell_type": "markdown",
   "metadata": {},
   "source": [
    "### Algorytm Chana"
   ]
  },
  {
   "cell_type": "markdown",
   "metadata": {},
   "source": [
    "Algorytm Chana jest optymalnym względem zbioru wynikowego algorytmem znajdowania otoczki wypukłej. Oznacza to tyle, że niejako łącząc algorytm Grahama i Jarvisa łączy podejście O(nlogn) zależne od ilości danych z podejściem O(nh) zależnym od mnogości zbioru wynikowego. Polega on na stworzeniu pomiejszych otoczek podzbiorów punktów, a następnie na ich połączeniu.\n",
    "\n",
    "Złożoność obliczeniowa O(nlogh)"
   ]
  },
  {
   "cell_type": "code",
   "execution_count": 104,
   "metadata": {},
   "outputs": [],
   "source": [
    "def chan_algorithm(points):\n",
    "    def most_acute(hull, a):\n",
    "        left, right = -1, len(hull)\n",
    "\n",
    "        while left + 1 < right:\n",
    "            mid = (left + right) // 2\n",
    "            if points_orientation(a, hull[(mid + len(hull) - 1) % len(hull)], hull[mid]) != -1:\n",
    "                left = mid\n",
    "            else:\n",
    "                right = mid\n",
    "\n",
    "        return hull[left]\n",
    "\n",
    "\n",
    "    min_y_ind = 0\n",
    "    for i in range(len(points)):\n",
    "        if points[i][1] < points[min_y_ind][1]: min_y_ind = i\n",
    "\n",
    "\n",
    "    for t in range(len(points)):\n",
    "        m = 2 ** (2 ** t)\n",
    "        hulls = [graham_algorithm(points[i:i+m]) for i in range((len(points)+m-1)//m)]\n",
    "\n",
    "        if len(hulls) == 1: return hulls[0]\n",
    "\n",
    "        ans_hull = [points[min_y_ind]]\n",
    "\n",
    "        # pseudo jarvis\n",
    "        for i in range(m):\n",
    "            on_chain = points[min_y_ind]\n",
    "            next = most_acute(hulls[0], on_chain)\n",
    "            for j in range(1, len(hulls)):\n",
    "                candidate = most_acute(hulls[j], on_chain)\n",
    "                if candidate == on_chain or points_orientation(on_chain, next, candidate) == 1 or (points_orientation(on_chain, next, candidate) == 0 and points_distance_sqare(on_chain, next) < points_distance_sqare(on_chain, candidate)):\n",
    "                    next = candidate\n",
    "            on_chain = next\n",
    "        if on_chain == ans_hull[0]: return ans_hull       \n",
    "\n",
    "    return []        "
   ]
  },
  {
   "cell_type": "code",
   "execution_count": 111,
   "metadata": {},
   "outputs": [
    {
     "name": "stdout",
     "output_type": "stream",
     "text": [
      "9 [(-81.64932184252287, -74.42163273030921), (-36.297317058417946, -72.91194239793609), (26.682887992598097, -65.55763984116587), (94.83039177581244, -55.52473300629532), (37.795092197502356, 57.71110085986143), (25.85862324263843, 62.49564419388622), (-46.24539555503924, 42.65521594922478), (-70.11654929355294, 16.723865705806816), (-77.92302295134137, -7.666110427206263)] [(-81.64932184252287, -74.42163273030921), (-36.297317058417946, -72.91194239793609), (26.682887992598097, -65.55763984116587), (94.83039177581244, -55.52473300629532), (37.795092197502356, 57.71110085986143), (25.85862324263843, 62.49564419388622), (-46.24539555503924, 42.65521594922478), (-70.11654929355294, 16.723865705806816), (-77.92302295134137, -7.666110427206263)]\n"
     ]
    }
   ],
   "source": [
    "points = [\n",
    "        (-62.781083483620016, 9.295526540248986),\n",
    "        (-10.543100198806997, -26.080520917553812),\n",
    "        (-81.64932184252287, -74.42163273030921),\n",
    "        (-36.297317058417946, -72.91194239793609),\n",
    "        (37.795092197502356, 57.71110085986143),\n",
    "        (62.511149567563905, -29.172821102708937),\n",
    "        (21.82806671019955, 2.647377124715007),\n",
    "        (-46.24539555503924, 42.65521594922478),\n",
    "        (-77.92302295134137, -7.666110427206263),\n",
    "        (25.85862324263843, 62.49564419388622),\n",
    "        (-27.71649622636616, -67.33453457840331),\n",
    "        (94.83039177581244, -55.52473300629532),\n",
    "        (-26.29675918891381, -51.30150933048958),\n",
    "        (-70.11654929355294, 16.723865705806816),\n",
    "        (26.682887992598097, -65.55763984116587),\n",
    "        (57.03377667841906, -55.56635171240132),\n",
    "        (-16.053624841650247, -42.333295668531456),\n",
    "        (-56.810858686395505, -37.41219002465095),\n",
    "        (15.604076302407279, -24.85779870929437),\n",
    "        (-71.77261869976445, -12.306083264402673)]\n",
    "\n",
    "print(len(graham_algorithm(points)), (jarvis_algorithm(points)), (chan_algorithm(points)))"
   ]
  }
 ],
 "metadata": {
  "kernelspec": {
   "display_name": "Python 3 (ipykernel)",
   "language": "python",
   "name": "python3"
  },
  "language_info": {
   "codemirror_mode": {
    "name": "ipython",
    "version": 3
   },
   "file_extension": ".py",
   "mimetype": "text/x-python",
   "name": "python",
   "nbconvert_exporter": "python",
   "pygments_lexer": "ipython3",
   "version": "3.9.18"
  }
 },
 "nbformat": 4,
 "nbformat_minor": 2
}
