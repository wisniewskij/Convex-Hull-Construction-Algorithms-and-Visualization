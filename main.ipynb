{
 "cells": [
  {
   "cell_type": "markdown",
   "metadata": {},
   "source": [
    "# Algotytmy obliczania otoczki wypukłej krok po kroku"
   ]
  },
  {
   "cell_type": "code",
   "execution_count": 221,
   "metadata": {},
   "outputs": [],
   "source": [
    "import numpy as np\n",
    "import pandas as pd\n",
    "import matplotlib.pyplot as plt\n",
    "from bitalg.visualizer.main import Visualizer\n",
    "from functools import cmp_to_key"
   ]
  },
  {
   "cell_type": "markdown",
   "metadata": {},
   "source": [
    "## Wczytywanie, zapisywanie zbiorów punktów do plikow"
   ]
  },
  {
   "cell_type": "code",
   "execution_count": 222,
   "metadata": {},
   "outputs": [],
   "source": [
    "def save_points(f_path, points):\n",
    "    with open(f_path, \"w\") as f:\n",
    "        f.write(f'{points}')\n",
    "\n",
    "def load_points(f_path):\n",
    "    with open(f_path, \"r\") as f:\n",
    "        return eval(f.readlines()[0])"
   ]
  },
  {
   "cell_type": "markdown",
   "metadata": {},
   "source": [
    "## Funkcje wyznacznika, orientacji oraz odległości"
   ]
  },
  {
   "cell_type": "code",
   "execution_count": 223,
   "metadata": {},
   "outputs": [],
   "source": [
    "def det(a, b, c):\n",
    "    return ((b[0] - a[0]) * (c[1] - b[1]) - (b[1]-a[1]) * (c[0] - b[0]) )\n",
    "\n",
    "def points_orientation(a, b, c, eps = 0):\n",
    "    computed_det = det(a, b, c)\n",
    "    if computed_det > eps: return 1 #counter-clockwise turn\n",
    "    elif computed_det < -eps: return -1\n",
    "    return 0\n",
    "\n",
    "def points_distance_square(a, b):\n",
    "    return ((a[0]-b[0])**2 + (a[1]-b[1])**2)"
   ]
  },
  {
   "cell_type": "markdown",
   "metadata": {},
   "source": [
    "## Visualizer"
   ]
  },
  {
   "cell_type": "code",
   "execution_count": 224,
   "metadata": {},
   "outputs": [],
   "source": [
    "class Visualiser_embed:\n",
    "    def __init__(self):\n",
    "        self.v = Visualizer()\n",
    "        self.ch_points = []\n",
    "        self.ch_lines = []\n",
    "        self.line_groups = []\n",
    "        self.colors = ['blue', 'cyan', 'magenta', 'yellow', 'black']\n",
    "    \n",
    "    def add_ch_line(self, line):\n",
    "        ch_lines.append(self.v.add_line_segments(line, color = 'red'))\n",
    "\n",
    "    def checker_line(self, line):\n",
    "        x = self.v.add_line_segment(line, color = 'green')\n",
    "        self.v.remove_figure(x)\n",
    "\n",
    "    def remove_ch_line(self):\n",
    "        if len(ch_lines):\n",
    "            self.v.remove_figure(ch_lines.pop())\n",
    "\n",
    "    def add_ch_point(self, point):\n",
    "        ch_points.append(self.v.add_point(point, color = 'red'))\n",
    "\n",
    "    def remove_ch_point(self):\n",
    "        if len(ch_points):\n",
    "            self.v.remove_figure(ch_points.pop())\n",
    "    \n",
    "    def add_line(self, line, no):\n",
    "        line_groups.append(self.v.add_line_segment(line, self.colors[no%len(self.colors)]))"
   ]
  },
  {
   "cell_type": "markdown",
   "metadata": {},
   "source": [
    "## Algorytmy znajdowania otoczki wypukłej"
   ]
  },
  {
   "cell_type": "markdown",
   "metadata": {},
   "source": [
    "Wszyskie zaimplementowane poniżej algorytmy przyjmują listę punktów w postaci [(x1, y1)...] oraz zwracają listę kolejnych punktów otoczki postaci [(x1, y1)...]\n"
   ]
  },
  {
   "cell_type": "markdown",
   "metadata": {},
   "source": [
    "### Algorytm Grahama"
   ]
  },
  {
   "cell_type": "markdown",
   "metadata": {},
   "source": [
    "Algorytm Grahama tworzy otoczkę wypukłą poprzez utrzymywanie stosu, w którym znajdują się punkty, które mogą, ale nie muszą tworzyć otoczki wypukłej. Za każdym razem jest wstawiany na stos jeden punkt z zbioru punktów i jest on usuwany ze stosu, jeżeli nie jest punktem otoczki. Kiedy algorytm kończy się, stos zawiera tylko punkty otoczki wypukłej w kierunku przeciwnym do ruchu wskazówek zegera.\n",
    "\n",
    "Złożoność czasowa O(nlogn)"
   ]
  },
  {
   "cell_type": "code",
   "execution_count": 225,
   "metadata": {},
   "outputs": [],
   "source": [
    "def graham_algorithm(points):\n",
    "    lowest_y_point = points[0]\n",
    "    for i in range(len(points)): \n",
    "        if points[i][1] < lowest_y_point[1] or (points[i][1] == lowest_y_point[1] and points[i][0] < lowest_y_point[0]): lowest_y_point = points[i] \n",
    "\n",
    "    def side_comp(x, y):\n",
    "        orientation = points_orientation(lowest_y_point, x, y)\n",
    "        if orientation == 0: return points_distance_square(lowest_y_point, x) - points_distance_square(lowest_y_point, y)\n",
    "        return -orientation\n",
    "\n",
    "    points.sort(key=cmp_to_key(side_comp))\n",
    "\n",
    "    new_points = [lowest_y_point]\n",
    "\n",
    "    for i in range(1, len(points)):\n",
    "        if i == len(points)-1 or points_orientation(lowest_y_point, points[i], points[i+1]) != 0: new_points.append(points[i])\n",
    "\n",
    "    S = [new_points[0]]\n",
    "    \n",
    "    for i in range(1, len(new_points)):\n",
    "        while len(S) > 1 and points_orientation(S[-2], S[-1], new_points[i]) != 1: S.pop()\n",
    "\n",
    "        S.append(new_points[i])\n",
    "\n",
    "    return S"
   ]
  },
  {
   "cell_type": "markdown",
   "metadata": {},
   "source": [
    "### Algorytm Jarvisa"
   ]
  },
  {
   "cell_type": "markdown",
   "metadata": {},
   "source": [
    "Algorytm Jarvisa oblicza otoczkę wypukłą dla zbioru punktów przez technikę zwaną owijaniem paczki (gift wraping). Algorytm Jarvisa buduje sekwencję, w której każdy kolejny punkt ma najmniejszy kąt w odniesieniu do poprzedniego. Jeśli punkty mają ten sam kąt, wybieramy dalszy.\n",
    "\n",
    "Złożoność czasowa O(nh) (gdzie h to wielkość zbioru wynikowego)"
   ]
  },
  {
   "cell_type": "code",
   "execution_count": 226,
   "metadata": {},
   "outputs": [],
   "source": [
    "def jarvis_algorithm(points):\n",
    "    on_chain = points[0]\n",
    "    for i in range(len(points)): \n",
    "        if points[i][1] < on_chain[1] or (points[i][1] == on_chain[1] and points[i][0] < on_chain[0]): on_chain = points[i] \n",
    "\n",
    "    S = []\n",
    "    while not S or on_chain != S[0]:\n",
    "        S.append(on_chain)\n",
    "        next = points[0]\n",
    "        for point in points: \n",
    "            if next == on_chain or points_orientation(on_chain, next, point) == -1 or (points_orientation(on_chain, next, point) == 0 and points_distance_square(on_chain, next)< points_distance_square(on_chain, point)):\n",
    "                next = point\n",
    "        on_chain = next\n",
    "\n",
    "    return S"
   ]
  },
  {
   "cell_type": "markdown",
   "metadata": {},
   "source": [
    "### Algorytm Dziel i Zwyciężaj"
   ]
  },
  {
   "cell_type": "markdown",
   "metadata": {},
   "source": [
    "Algorytm ten polega na rekurencyjnym podziale zbioru na dwie części, po których przeprocesowaniu następuje ich łączenie. Podział wykonujemy wedle pionowej prostej przechodzącej przez element środkowy względem wspł. x. W tym celu na początu sortujemy cały zbiór punktów. W momencie gdy zbiór zawiera jedynie <= 5 punktów, Wykonujemy brutalny algorytm wyszukiwania otoczki.\n",
    "\n",
    "Łączenie odbywa się poprzez wybranie dla lewej otoczki punktu najbardziej wysuniętego w prawo p i dla prawej otoczki punktu najbardziej wysuniętego w lewo q. Następnie tworzymy dwa odcinki pq. Jeden z nich będziemy przesuwać w górę, a drugi w dół aż do utworzenia dolnej i górnej stycznej.\n",
    "\n",
    "Złożoność O(nlogn)"
   ]
  },
  {
   "cell_type": "code",
   "execution_count": 227,
   "metadata": {},
   "outputs": [],
   "source": [
    "# Driver code\n",
    "def divide_and_conquer(points):\n",
    "    points = sorted(points)\n",
    "    new_points = [points[0]]\n",
    "    for i in range(1, len(points) - 1):\n",
    "        if points[i][0] != points[i-1][0] or points[i][0] != points[i+1][0]: new_points.append(points[i])\n",
    "    \n",
    "    new_points.append(points[-1])\n",
    "\n",
    "    return divide_and_conquer_main_func(new_points)\n",
    "\n",
    "# Main function\n",
    "def divide_and_conquer_main_func(points):\n",
    "    if len(points) <= 5: return jarvis_algorithm(points)\n",
    "\n",
    "    left_part = divide_and_conquer_main_func(points[:len(points)//2 + 2])\n",
    "    right_part = divide_and_conquer_main_func(points[len(points)//2 + 2:])\n",
    "\n",
    "    return merge(left_part, right_part)\n",
    "\n",
    "# Merge function\n",
    "def merge(a, b):\n",
    "\n",
    "    if len(a) == 0: return b\n",
    "    elif len(b) == 0: return a\n",
    "\n",
    "    max_right_ind = 0\n",
    "    for i in range(len(a)): \n",
    "        if a[i][0] > a[max_right_ind][0]: max_right_ind = i \n",
    "\n",
    "    max_left_ind = 0\n",
    "    for i in range(len(b)): \n",
    "        if b[i][0] < b[max_left_ind][0]: max_left_ind = i \n",
    "\n",
    "    top_a_ind = bottom_a_ind = max_right_ind\n",
    "    top_b_ind = bottom_b_ind = max_left_ind\n",
    "\n",
    " \n",
    "    while True:\n",
    "        done = True\n",
    "        while len(a) > 1 and points_orientation(b[top_b_ind], a[top_a_ind], a[(top_a_ind + 1)%len(a)]) == -1 or (points_orientation(b[top_b_ind], a[top_a_ind], a[(top_a_ind + 1)%len(a)]) == 0 and points_distance_square(b[top_b_ind], a[top_a_ind]) < points_distance_square(b[top_b_ind], a[(top_a_ind + 1)%len(a)])): \n",
    "            top_a_ind = (top_a_ind + 1)%len(a)\n",
    "\n",
    "        while len(b) > 1 and points_orientation(a[top_a_ind], b[top_b_ind], b[(top_b_ind - 1 + len(b))%len(b)]) == 1 or (points_orientation(a[top_a_ind], b[top_b_ind], b[(top_b_ind - 1 + len(b))%len(b)]) == 0 and points_distance_square(b[top_b_ind], a[top_a_ind]) < points_distance_square(b[(top_b_ind - 1 + len(b))%len(b)], a[top_a_ind])): \n",
    "            top_b_ind = (top_b_ind - 1 + len(b))%len(b)\n",
    "            done = False\n",
    "            \n",
    "        if done: break\n",
    "        \n",
    "    while True:\n",
    "        done = True\n",
    "        while len(a) > 1 and points_orientation(b[bottom_b_ind], a[bottom_a_ind], a[(bottom_a_ind - 1 + len(a))%len(a)]) == 1 or (points_orientation(b[bottom_b_ind], a[bottom_a_ind], a[(bottom_a_ind - 1 + len(a))%len(a)]) == 0 and points_distance_square(b[bottom_b_ind], a[bottom_a_ind]) < points_distance_square(b[bottom_b_ind], a[(bottom_a_ind - 1 + len(a))%len(a)])): \n",
    "            bottom_a_ind = (bottom_a_ind - 1 + len(a))%len(a)\n",
    "\n",
    "        while len(b) > 1 and points_orientation(a[bottom_a_ind], b[bottom_b_ind], b[(bottom_b_ind + 1)%len(b)]) == -1 or (points_orientation(a[bottom_a_ind], b[bottom_b_ind], b[(bottom_b_ind + 1)%len(b)]) == 0 and points_distance_square(b[bottom_b_ind], a[bottom_a_ind]) < points_distance_square(b[(bottom_b_ind + 1)%len(b)], a[bottom_a_ind])): \n",
    "            bottom_b_ind = (bottom_b_ind + 1)%len(b)\n",
    "            done = False\n",
    "\n",
    "        if done: break\n",
    "\n",
    "    new_points = []\n",
    "    i = top_a_ind\n",
    "    while i != bottom_a_ind: \n",
    "        new_points.append(a[i])\n",
    "        i = (i + 1) % len(a)\n",
    "    new_points.append(a[bottom_a_ind])\n",
    "\n",
    "    i = bottom_b_ind\n",
    "    while i != top_b_ind: \n",
    "        new_points.append(b[i])\n",
    "        i = (i + 1) % len(b)\n",
    "    new_points.append(b[top_b_ind])\n",
    "\n",
    "    return new_points"
   ]
  },
  {
   "cell_type": "markdown",
   "metadata": {},
   "source": [
    "### Algorytm Chana"
   ]
  },
  {
   "cell_type": "markdown",
   "metadata": {},
   "source": [
    "Algorytm Chana jest optymalnym względem zbioru wynikowego algorytmem znajdowania otoczki wypukłej. Oznacza to tyle, że niejako łącząc algorytm Grahama i Jarvisa łączy podejście O(nlogn) zależne od ilości danych z podejściem O(nh) zależnym od mnogości zbioru wynikowego. Polega on na stworzeniu pomiejszych otoczek podzbiorów punktów, a następnie na ich połączeniu.\n",
    "\n",
    "Złożoność obliczeniowa O(nlogh)"
   ]
  },
  {
   "cell_type": "code",
   "execution_count": 228,
   "metadata": {},
   "outputs": [],
   "source": [
    "def chan_algorithm(points):\n",
    "\n",
    "    def most_acute(hull, a):\n",
    "        left, right = -1, len(hull)\n",
    "\n",
    "        while left + 1 < right:\n",
    "            mid = (left + right) // 2\n",
    "            if points_orientation(a, hull[(mid + len(hull) - 1) % len(hull)], hull[mid]) != 1:\n",
    "                left = mid\n",
    "            else:\n",
    "                right = mid\n",
    "\n",
    "        return hull[left]\n",
    "\n",
    "\n",
    "    min_y_ind = 0\n",
    "    for i in range(len(points)):\n",
    "        if points[i][1] < points[min_y_ind][1]: min_y_ind = i\n",
    "\n",
    "\n",
    "    for t in range(len(points)):\n",
    "        m = 2 ** (2 ** t)\n",
    "        hulls = [graham_algorithm(points[i:i+m]) for i in range((len(points)+m-1)//m)]\n",
    "\n",
    "        if len(hulls) == 1: return hulls[0]\n",
    "\n",
    "        ans_hull = [points[min_y_ind]]\n",
    "\n",
    "        # pseudo jarvis\n",
    "        for i in range(m):\n",
    "            on_chain = points[min_y_ind]\n",
    "            next = most_acute(hulls[0], on_chain)\n",
    "            for j in range(1, len(hulls)):\n",
    "                candidate = most_acute(hulls[j], on_chain)\n",
    "                if candidate == on_chain or points_orientation(on_chain, next, candidate) == -1 or (points_orientation(on_chain, next, candidate) == 0 and points_distance_sqare(on_chain, next) < points_distance_sqare(on_chain, candidate)):\n",
    "                    next = candidate\n",
    "            on_chain = next\n",
    "        if on_chain == ans_hull[0]: return ans_hull       \n",
    "\n",
    "    return []        "
   ]
  },
  {
   "cell_type": "markdown",
   "metadata": {},
   "source": [
    "### Algorytm przyrostowy"
   ]
  },
  {
   "cell_type": "markdown",
   "metadata": {},
   "source": [
    "Tu opis"
   ]
  },
  {
   "cell_type": "code",
   "execution_count": 229,
   "metadata": {},
   "outputs": [],
   "source": [
    "class Node:\n",
    "    def __init__(self, point):\n",
    "        self.point = point\n",
    "        self.prev = None\n",
    "        self.next = None\n",
    "\n",
    "class DoublyLinkedList:\n",
    "    def __init__(self):\n",
    "        self.head = None\n",
    "        self.tail = None\n",
    "\n",
    "    def append(self, point, other = None):\n",
    "        new_node = Node(point)\n",
    "        if not self.head:\n",
    "            self.head = new_node\n",
    "            self.tail = new_node\n",
    "        elif not other or other == self.tail:\n",
    "            new_node.prev = self.tail\n",
    "            self.tail.next = new_node\n",
    "            self.tail = new_node\n",
    "        else:\n",
    "            new_node.next = other.next\n",
    "            new_node.prev = other\n",
    "            other.next.prev = new_node\n",
    "            other.next = new_node\n",
    "\n",
    "        return new_node\n",
    "\n",
    "    def prepend(self, point, other = None):\n",
    "        new_node = Node(point)\n",
    "        if not self.head:\n",
    "            self.head = new_node\n",
    "            self.tail = new_node\n",
    "        elif not other or other == self.head:\n",
    "            new_node.next = self.head\n",
    "            self.head.prev = new_node\n",
    "            self.head = new_node\n",
    "        else:\n",
    "            new_node.next = other\n",
    "            new_node.prev = other.prev\n",
    "            other.prev.next = new_node\n",
    "            other.prev = new_node\n",
    "        \n",
    "        return new_node\n",
    "    \n",
    "    def get_next(self, other):\n",
    "        if other == self.tail: return self.head\n",
    "        return other.next\n",
    "\n",
    "    def get_prv(self, other):\n",
    "        if other == self.head: return self.tail\n",
    "        return other.prev\n",
    "\n",
    "    def delete(self, other):\n",
    "        if self.head == self.tail and self.head == other: \n",
    "            self.head = self.tail = None\n",
    "\n",
    "        if other == self.head:\n",
    "            self.head = self.head.next\n",
    "            self.head.prev = None\n",
    "        elif other == self.tail:\n",
    "            self.tail = self.tail.prev\n",
    "            self.tail.next = None\n",
    "        else: \n",
    "            other.prev.next = other.next\n",
    "            other.next.prev = other.prev\n",
    "            other.next = other.prev = None\n",
    "\n",
    "        if self.head == None or self.tail == None:\n",
    "            self.head = self.tail = None\n",
    "\n",
    "    def to_list(self):\n",
    "        current = self.head\n",
    "        ans = []\n",
    "        while current:\n",
    "            ans.append(current.point)\n",
    "            current = current.next\n",
    "        return ans\n",
    "    \n",
    "    def amend_the_hull(self, point, other):\n",
    "        c1 = c2 = other\n",
    "        to_be_deleted = []\n",
    "        \n",
    "        while points_orientation(point, c1.point, self.get_next(c1).point) == -1 or (points_orientation(point, c1.point, self.get_next(c1).point) == 0 and points_distance_square(point, c1.point) < points_distance_square(point, self.get_next(c1).point)):\n",
    "            if c1 != other: to_be_deleted.append(c1)\n",
    "            c1 = self.get_next(c1)\n",
    "\n",
    "        while points_orientation(point, c2.point, self.get_prv(c2).point) == 1 or (points_orientation(point, c2.point, self.get_prv(c2).point) == 0 and points_distance_square(point, c2.point) < points_distance_square(point, self.get_prv(c2).point)):\n",
    "            if c2 != other: to_be_deleted.append(c2)\n",
    "            c2 = self.get_prv(c2)\n",
    "\n",
    "        if c1 != other and c2 != other:\n",
    "            to_be_deleted.append(other)\n",
    "        \n",
    "        for x in to_be_deleted: self.delete(x)\n",
    "        return self.prepend(point, c1)\n",
    "\n",
    "def incremental(points):\n",
    "    if len(points) < 2: return points \n",
    "\n",
    "    points = sorted(points)\n",
    "\n",
    "    new_points = [points[0]]\n",
    "    for i in range(1, len(points) - 1):\n",
    "        if points[i][0] != points[i-1][0] or points[i][0] != points[i+1][0]: new_points.append(points[i])\n",
    "    \n",
    "    new_points.append(points[-1])\n",
    "    \n",
    "    CH = DoublyLinkedList()\n",
    "    CH.append(new_points[0])\n",
    "    added_last = CH.append(new_points[1])\n",
    "\n",
    "    for i in range(2, len(new_points)): \n",
    "        added_last = CH.amend_the_hull(new_points[i], added_last)\n",
    "\n",
    "        \n",
    "    return CH.to_list()   "
   ]
  },
  {
   "cell_type": "markdown",
   "metadata": {},
   "source": [
    "### Algorytm QuickHull"
   ]
  },
  {
   "cell_type": "markdown",
   "metadata": {},
   "source": [
    "Tu opis"
   ]
  },
  {
   "cell_type": "code",
   "execution_count": 230,
   "metadata": {},
   "outputs": [],
   "source": [
    "#dystans punktu p od linii, ktora laczy punkty a i b\n",
    "\n",
    "def distance(a,b,p):\n",
    "    return abs((p[1]-a[1])*(b[0]-a[0]) - (b[1]-a[1])*(p[0]-a[0]))\n",
    "\n",
    "def recur(a, b, p, ch, points):\n",
    "    right = []\n",
    "    if(len(p)==0):\n",
    "        return\n",
    "    #wyznaczam punkty po prawej stronie prostej ab\n",
    "    for i in range(len(p)): \n",
    "        if(points_orientation(a, b, p[i]) == -1):\n",
    "            right.append(p[i])\n",
    "\n",
    "    #wyznaczam punkt najdalej lezacy od prostej ab\n",
    "    if(len(right)==0):\n",
    "        return \n",
    "    \n",
    "    else:\n",
    "        dist = -1\n",
    "        for i in range(len(right)):\n",
    "            if distance(a,b,right[i]) > dist:\n",
    "                index = i\n",
    "                dist = distance(a,b,right[i])\n",
    "\n",
    "        a_ind = ch.index(a)\n",
    "        new_p = right[index]\n",
    "        ch.insert(a_ind+1, new_p)\n",
    "        recur(a, new_p, right, ch, points)\n",
    "        recur(new_p, b, right, ch, points)    \n",
    "    \n",
    "def Quickhull(points):\n",
    "    if len(points) < 2: return points\n",
    "    ch = [] \n",
    "\n",
    "    a = min(points)\n",
    "    b = max(points)   \n",
    "\n",
    "    ch.append(a)\n",
    "    ch.append(b)\n",
    "    \n",
    "    recur(a,b,points,ch,points)\n",
    "    recur(b,a,points,ch,points)\n",
    "    \n",
    "    return ch"
   ]
  },
  {
   "cell_type": "markdown",
   "metadata": {},
   "source": [
    "### Algorytm Upper-Lower"
   ]
  },
  {
   "cell_type": "markdown",
   "metadata": {},
   "source": [
    "Tu opis"
   ]
  },
  {
   "cell_type": "code",
   "execution_count": 231,
   "metadata": {},
   "outputs": [],
   "source": [
    "   \n",
    "def UpperAndLower(points):\n",
    "    if len(points) < 3: return points\n",
    "    sorted_points = sorted(points, key=lambda x: (x[0], x[1]))\n",
    "\n",
    "    upper, lower = [sorted_points[0], sorted_points[1]], [sorted_points[0], sorted_points[1]]\n",
    "\n",
    "    for idx in range(2, len(sorted_points)):\n",
    "        while len(upper) > 1 and points_orientation(upper[-2], upper[-1], sorted_points[idx]) != -1:\n",
    "            upper.pop()\n",
    "        upper.append(sorted_points[idx])     \n",
    "\n",
    "        while len(lower) > 1 and points_orientation(lower[-2], lower[-1], sorted_points[idx]) != 1:\n",
    "            lower.pop()\n",
    "        lower.append(sorted_points[idx])\n",
    "    lower.reverse()\n",
    "    \n",
    "    upper.pop()\n",
    "    lower.pop()\n",
    "    \n",
    "    hull = lower + upper\n",
    "    \n",
    "    return list(reversed(hull))\n"
   ]
  },
  {
   "cell_type": "code",
   "execution_count": 233,
   "metadata": {},
   "outputs": [
    {
     "name": "stdout",
     "output_type": "stream",
     "text": [
      "[(0, 0), (10, 0), (10, 10), (0, 10)]\n",
      "[(0, 0), (10, 0), (10, 10), (0, 10)]\n",
      "[(0, 0), (10, 0), (10, 10), (0, 10)]\n",
      "[(0, 10), (0, 0), (10, 0), (10, 10)]\n",
      "[(0, 0), (10, 0), (10, 10), (0, 10)]\n",
      "[(0, 0), (10, 0), (10, 10), (0, 10)]\n",
      "[(0, 10), (0, 0), (10, 0), (10, 10)]\n"
     ]
    },
    {
     "data": {
      "image/png": "[encoded data removed]",
      "text/plain": [
       "<Figure size 640x480 with 1 Axes>"
      ]
     },
     "metadata": {},
     "output_type": "display_data"
    }
   ],
   "source": [
    "#TMP SYF\n",
    "\n",
    "points = [(0, 0), (0, 1.7973882603514757), (0, 2.0752403541505116), (0, 2.2185340801627396), (0, 2.6608040616600004), (0, 3.9393132458181257), (0, 4.500955174019103), (0, 6.10381997122909), (0, 7.613834400777135), (0, 8.50580304623626), (0, 9.490032788769971), (0, 10), (0.19966653659046707, 9.800333463409533), (1.1438086484599874, 8.856191351540012), (1.3082355490525677, 0), (1.5427484638692945, 1.5427484638692945), (1.5885826456879937, 0), (2.1837136463347817, 7.816286353665218), (2.196383939445521, 2.196383939445521), (2.5591114308476373, 0), (2.643793302924764, 2.643793302924764), (2.6980706555319376, 2.6980706555319376), (2.7871011015218237, 0), (2.8103133828068483, 7.189686617193152), (2.944724966178429, 7.055275033821571), (3.9525641380748233, 0), (4.07851557705991, 5.92148442294009), (4.142520093348764, 4.142520093348764), (4.7312824099383635, 0), (5.099125014270967, 0), (6.330742379366302, 3.669257620633698), (6.38058017203766, 3.61941982796234), (6.584595708497838, 6.584595708497838), (6.606480696570816, 6.606480696570816), (6.71771023223844, 3.2822897677615597), (7.246855577824873, 0), (7.718160744943332, 7.718160744943332), (7.884652129621108, 7.884652129621108), (7.964150626275728, 0), (8.031189732051807, 0), (8.41506433861673, 8.41506433861673), (9.862473974771763, 0.13752602522823665), (10, 0), (10, 10)]\n",
    "\n",
    "# print(len(graham_algorithm(points)), (jarvis_algorithm(points)), (chan_algorithm(points)))\n",
    "\n",
    "vis = Visualizer()\n",
    "vis.add_point(points)\n",
    "\n",
    "print(graham_algorithm(points))\n",
    "print(jarvis_algorithm(points))\n",
    "print(chan_algorithm(points))\n",
    "print(divide_and_conquer(points))\n",
    "print(incremental(points))\n",
    "print(Quickhull(points))\n",
    "print(UpperAndLower(points))\n",
    "\n",
    "\n",
    "ans = UpperAndLower(points)\n",
    "for i in range(1, len(ans)): vis.add_line_segment((ans[i-1], ans[i]), color = 'green')\n",
    "vis.add_line_segment((ans[0], ans[-1]), color = 'green')\n",
    "vis.add_point(ans, color='red')\n",
    "vis.show()"
   ]
  }
 ],
 "metadata": {
  "kernelspec": {
   "display_name": "Python 3 (ipykernel)",
   "language": "python",
   "name": "python3"
  },
  "language_info": {
   "codemirror_mode": {
    "name": "ipython",
    "version": 3
   },
   "file_extension": ".py",
   "mimetype": "text/x-python",
   "name": "python",
   "nbconvert_exporter": "python",
   "pygments_lexer": "ipython3",
   "version": "3.9.18"
  }
 },
 "nbformat": 4,
 "nbformat_minor": 2
}
